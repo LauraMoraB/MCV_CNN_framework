{
 "cells": [
  {
   "cell_type": "markdown",
   "metadata": {},
   "source": [
    "# Analyze DataSets"
   ]
  },
  {
   "cell_type": "code",
   "execution_count": 2,
   "metadata": {},
   "outputs": [],
   "source": [
    "import numpy as np\n",
    "import pandas as pd\n",
    "from matplotlib import pyplot as plt\n",
    "import os"
   ]
  },
  {
   "cell_type": "code",
   "execution_count": 26,
   "metadata": {},
   "outputs": [],
   "source": [
    "def create_dataframe(dataset_path, sets):\n",
    "        \n",
    "    number_of_calsses = len(os.listdir(dataset_path+\"train/\"))\n",
    "    classes_names = os.listdir(dataset_path+\"train/\")\n",
    "    df = pd.DataFrame({'classes':classes_names})\n",
    "    \n",
    "    for item in sets:\n",
    "        if item == 'test_new':\n",
    "            column = \"test\"\n",
    "        elif item == 'valid_new':\n",
    "            column = \"valid\"\n",
    "        else:\n",
    "            column = item\n",
    "            \n",
    "        df[column+\"_images\"] = [len(os.listdir(dataset_path+item+\"/\"+category)) for category in os.listdir(dataset_path+item+\"/\") ]                      \n",
    "\n",
    "    \n",
    "    return df"
   ]
  },
  {
   "cell_type": "code",
   "execution_count": 31,
   "metadata": {},
   "outputs": [],
   "source": [
    "def compute_set_percentage(df):\n",
    "    sets = [\"train\", \"valid\", \"test\"]\n",
    "    total_dataset = df[\"train_images\"].sum() + df[\"valid_images\"].sum() +df[\"test_images\"].sum()\n",
    "    return [ round(df[item+\"_images\"].sum()/total_dataset * 100,2) for item in sets ]\n",
    "\n",
    "def compute_no_validation_data(df):\n",
    "    \n",
    "    no_valid_df = df[( df.train_images != 0) & (df.valid_images == 0) ]\n",
    "    number_classes_no_valid_data = len(no_valid_df)\n",
    "    classes_no_valid_data = list(no_valid_df[\"classes\"])\n",
    "    print(\"There are: \"+ str(number_classes_no_valid_data) +\" classes not represented in the validation set\")\n",
    "    print(\"\\nThose classes are: \"+str(classes_no_valid_data))\n",
    "    \n",
    "    return number_classes_no_valid_data,classes_no_valid_data\n",
    "\n",
    "def compute_no_train_but_test(df):\n",
    "    short_df = df[( df.train_images == 0) & (df.test_images != 0) ]\n",
    "    number_classes_no_train_data=len(short_df)\n",
    "    classes_no_train_data = list(short_df[\"classes\"])\n",
    "    print(\"There are: \"+ str(number_classes_no_train_data) +\" classes with no training data but test set\")\n",
    "    print(\"\\nThose classes are: \"+str(classes_no_train_data))\n",
    "          \n",
    "    return number_classes_no_train_data, classes_no_train_data\n",
    "\n",
    "def compute_no_train_but_valid(df):\n",
    "    short_df = df[( df.train_images == 0) & (df.valid_images != 0) ]\n",
    "    number_classes_no_train_data=len(short_df)\n",
    "    classes_no_train_data = list(short_df[\"classes\"])\n",
    "    print(\"There are: \"+ str(number_classes_no_train_data) +\" classes with no training data but valid set\")\n",
    "    print(\"\\nThose classes are: \"+str(classes_no_train_data))\n",
    "          \n",
    "    return number_classes_no_train_data, classes_no_train_data\n",
    "\n",
    "def no_data_in_dataset(df):\n",
    "    short_df = df[(df.train_images == 0) & (df.valid_images == 0) & (df.test_images != 0) ]\n",
    "    number_classes_no_data=len(short_df)\n",
    "    classes_no_data = list(short_df[\"classes\"])\n",
    "    print(\"There are: \"+ str(number_classes_no_data) +\" classes with no data\")\n",
    "    print(\"\\nThose classes are: \"+str(classes_no_data))\n",
    "          \n",
    "    return number_classes_no_data, classes_no_data"
   ]
  },
  {
   "cell_type": "markdown",
   "metadata": {},
   "source": [
    "## TT100K_trafficSigns"
   ]
  },
  {
   "cell_type": "code",
   "execution_count": 35,
   "metadata": {},
   "outputs": [],
   "source": [
    "dataset_path = \"dataset/classificator/TT100K_trafficSigns/\"\n",
    "sets = [\"train\", \"valid\", \"test\"]\n",
    "df = create_dataframe(dataset_path, sets)"
   ]
  },
  {
   "cell_type": "code",
   "execution_count": 52,
   "metadata": {},
   "outputs": [],
   "source": [
    "df.to_csv(\"tt100k_complete.csv\")"
   ]
  },
  {
   "cell_type": "code",
   "execution_count": 48,
   "metadata": {},
   "outputs": [
    {
     "data": {
      "image/png": "[encoded data removed]",
      "text/plain": [
       "<Figure size 432x288 with 1 Axes>"
      ]
     },
     "metadata": {},
     "output_type": "display_data"
    }
   ],
   "source": [
    "percentage = compute_set_percentage(df)\n",
    "\n",
    "labels = [\"train\",\"validation\", \"test\"]\n",
    "colors = ['orange', 'green', 'lightskyblue']\n",
    "explode = (0.005, 0.005, 0.005)  \n",
    "\n",
    "patches, texts = plt.pie(percentage, colors=colors, shadow=True, startangle=90)\n",
    "plt.legend(patches, labels, loc=\"best\")\n",
    "#plt.pie(percentage, explode=explode, colors=colors, labels=labels, autopct='%1.1f%%', shadow=True, startangle=140)\n",
    "plt.tight_layout()\n",
    "plt.title(\"TT100K Set percentage\")\n",
    "plt.axis('equal')\n",
    "plt.show()"
   ]
  },
  {
   "cell_type": "markdown",
   "metadata": {},
   "source": [
    "## Number and What Classes have no Validation Set but have Train data"
   ]
  },
  {
   "cell_type": "code",
   "execution_count": 37,
   "metadata": {},
   "outputs": [
    {
     "name": "stdout",
     "output_type": "stream",
     "text": [
      "There are: 44 classes not represented in the validation set\n",
      "\n",
      "Those classes are: ['i1', 'i11', 'il110', 'il50', 'il70', 'p13', 'p15', 'p18', 'p20', 'p21', 'p24', 'p27', 'p4', 'p6', 'p8', 'pa12', 'pa8', 'ph1.5', 'ph2.1', 'ph2.9', 'ph3.2', 'ph4', 'ph4.5', 'pl70', 'pm20', 'pm30', 'pm35', 'pm55', 'pr10', 'pr100', 'pr40', 'pw2', 'pw2.5', 'pw3', 'pw3.2', 'pw3.5', 'pw4', 'pw4.2', 'pw4.5', 'w12', 'w35', 'w5', 'w55', 'wo']\n"
     ]
    }
   ],
   "source": [
    "numberV, classesV = compute_no_validation_data(df)"
   ]
  },
  {
   "cell_type": "markdown",
   "metadata": {},
   "source": [
    "## Number and What Classes have no Train Set but have Validation data"
   ]
  },
  {
   "cell_type": "code",
   "execution_count": 38,
   "metadata": {},
   "outputs": [
    {
     "name": "stdout",
     "output_type": "stream",
     "text": [
      "There are: 24 classes with no training data but valid set\n",
      "\n",
      "Those classes are: ['i15', 'p7', 'pc', 'ph2.6', 'ph3.3', 'ph4.4', 'ph5.5', 'pl4', 'pl65', 'pm1.5', 'pm25', 'pm46', 'pn40', 'w1', 'w24', 'w26', 'w31', 'w43', 'w44', 'w48', 'w49', 'w50', 'w60', 'w62']\n"
     ]
    }
   ],
   "source": [
    "numberV, classesV = compute_no_train_but_valid(df)"
   ]
  },
  {
   "cell_type": "markdown",
   "metadata": {},
   "source": [
    "## Number and What Classes have no Training Data but have Test Data"
   ]
  },
  {
   "cell_type": "code",
   "execution_count": 39,
   "metadata": {
    "scrolled": true
   },
   "outputs": [
    {
     "name": "stdout",
     "output_type": "stream",
     "text": [
      "There are: 11 classes with no training data but test set\n",
      "\n",
      "Those classes are: ['i15', 'ph3.8', 'ph5.5', 'pl3', 'pm2.5', 'pr45', 'w2', 'w24', 'w28', 'w43', 'w56']\n"
     ]
    }
   ],
   "source": [
    "numberT, classesT = compute_no_train_but_test(df)"
   ]
  },
  {
   "cell_type": "markdown",
   "metadata": {},
   "source": [
    "## Classes with no data in either class"
   ]
  },
  {
   "cell_type": "code",
   "execution_count": 102,
   "metadata": {},
   "outputs": [
    {
     "name": "stdout",
     "output_type": "stream",
     "text": [
      "There are: 7 classes with no data\n",
      "\n",
      "Those classes are: ['ph3.8', 'pl3', 'pm2.5', 'pr45', 'w2', 'w28', 'w56']\n"
     ]
    }
   ],
   "source": [
    "number, classes = no_data_in_dataset(df)"
   ]
  },
  {
   "cell_type": "markdown",
   "metadata": {},
   "source": [
    "## Classes Inicials: 45"
   ]
  },
  {
   "cell_type": "code",
   "execution_count": 55,
   "metadata": {},
   "outputs": [],
   "source": [
    "config_file = ['i1','i4','i5','il100','il60','il80','io','ip','p10','p11','p12','p19','p23','p26','p27','p3','p5','p6','pg','ph4.5','ph4','ph5','pl100','pl120','pl20','pl30','pl40','pl50','pl5','pl60','pl70','pl80','pm20','pm30','pm55','pne','pn','po','pr40','w13','w32','w55','w57','w59','wo']\n",
    "classes_incials_df = df[df.classes.isin(config_file)]\n"
   ]
  },
  {
   "cell_type": "code",
   "execution_count": 57,
   "metadata": {},
   "outputs": [
    {
     "data": {
      "image/png": "[encoded data removed]",
      "text/plain": [
       "<Figure size 432x288 with 1 Axes>"
      ]
     },
     "metadata": {},
     "output_type": "display_data"
    }
   ],
   "source": [
    "percentage = compute_set_percentage(classes_incials_df)\n",
    "\n",
    "labels = [\"train\",\"validation\", \"test\"]\n",
    "colors = ['gold', 'yellowgreen', 'lightskyblue']\n",
    "explode = (0.009, 0.009, 0.009)  \n",
    "plt.pie(percentage, explode=explode, colors=colors, labels=labels, autopct='%1.1f%%', shadow=True, startangle=140)\n",
    "plt.tight_layout()\n",
    "plt.axis('equal')\n",
    "plt.show()"
   ]
  },
  {
   "cell_type": "code",
   "execution_count": 58,
   "metadata": {},
   "outputs": [],
   "source": [
    "classes_incials_df.to_csv(\"init_tt100k.csv\")"
   ]
  },
  {
   "cell_type": "code",
   "execution_count": 118,
   "metadata": {},
   "outputs": [],
   "source": [
    "short_df = df[(df.train_images > 0) & (df.valid_images > 0) & (df.test_images > 0) ]\n",
    "classes_always_data = list(short_df.classes)"
   ]
  },
  {
   "cell_type": "markdown",
   "metadata": {},
   "source": [
    "## Agrupation by classes to analyse results"
   ]
  },
  {
   "cell_type": "code",
   "execution_count": 19,
   "metadata": {},
   "outputs": [],
   "source": [
    "classes_aggrupation_map = {'info': 0,'pr_general': 1, 'pr_weigh':3, 'pr_weigh2':4, 'pr_width':5, 'pr_circulation':6, 'attention':7, 'pr_height':8, 'pr_limit_velocity':9, 'pr_entry':10,'pr_park':11, 'vel_restrict':12, 'warn':13, 'china_stop':14}\n"
   ]
  },
  {
   "cell_type": "code",
   "execution_count": 41,
   "metadata": {},
   "outputs": [],
   "source": [
    "aggrup = {'info':[], \n",
    "          'pr_general': [], \n",
    "          'pr_weigh':[], \n",
    "          'pr_weigh2':[],\n",
    "          'pr_width':[], \n",
    "          'pr_circulation':[], \n",
    "          'attention':[],\n",
    "          'pr_height':[], \n",
    "          'pr_limit_velocity':[],\n",
    "          'pr_entry':[],\n",
    "          'pr_park':[], \n",
    "          'vel_restrict':[], \n",
    "          'warn':[], \n",
    "          'china_stop':[]}\n"
   ]
  },
  {
   "cell_type": "markdown",
   "metadata": {},
   "source": [
    "## Group traffic signs per type"
   ]
  },
  {
   "cell_type": "code",
   "execution_count": 42,
   "metadata": {},
   "outputs": [],
   "source": [
    "for item in df.classes:\n",
    "    if item.startswith(\"i\"):\n",
    "        aggrup[\"info\"].append(item)\n",
    "        \n",
    "    elif item.startswith(\"w\"):\n",
    "        aggrup[\"warn\"].append(item)\n",
    "        \n",
    "    elif item.startswith(\"pa\"):\n",
    "        aggrup[\"pr_weigh\"].append(item)\n",
    "        \n",
    "    elif item.startswith(\"pb\"):\n",
    "        aggrup[\"pr_circulation\"].append(item)\n",
    "        \n",
    "    elif item.startswith(\"pg\"):\n",
    "        aggrup[\"attention\"].append(item)\n",
    "        \n",
    "    elif item.startswith(\"ph\"):\n",
    "        aggrup[\"pr_height\"].append(item)\n",
    "        \n",
    "    elif item.startswith(\"pl\"):\n",
    "        aggrup[\"pr_limit_velocity\"].append(item)\n",
    "        \n",
    "    elif item.startswith(\"pne\"):\n",
    "        aggrup[\"pr_entry\"].append(item)\n",
    "        \n",
    "    elif item.startswith(\"pn\"):\n",
    "        aggrup[\"pr_park\"].append(item)\n",
    "        \n",
    "    elif item.startswith(\"pm\"):\n",
    "        aggrup[\"pr_weigh2\"].append(item)\n",
    "        \n",
    "    elif item.startswith(\"pw\"):\n",
    "        aggrup[\"pr_width\"].append(item)\n",
    "        \n",
    "    elif item.startswith(\"pr\"):\n",
    "        aggrup[\"vel_restrict\"].append(item)\n",
    "        \n",
    "    elif item.startswith(\"ps\"):\n",
    "        aggrup[\"china_stop\"].append(item)    \n",
    "    else:\n",
    "        aggrup[\"pr_general\"].append(item)"
   ]
  },
  {
   "cell_type": "code",
   "execution_count": 89,
   "metadata": {},
   "outputs": [],
   "source": [
    "def save_images_per_set(df, dataset, aggrup):\n",
    "    df_aggrup = df[df.classes.isin(aggrup)].sum()\n",
    "    return df_aggrup[dataset+\"_images\"]\n",
    "    \n"
   ]
  },
  {
   "cell_type": "code",
   "execution_count": 91,
   "metadata": {},
   "outputs": [],
   "source": [
    "df_image_class = pd.DataFrame({'aggrupation': aggrup})"
   ]
  },
  {
   "cell_type": "code",
   "execution_count": 95,
   "metadata": {},
   "outputs": [],
   "source": [
    "df_image_class['train'] = [save_images_per_set(df, 'train', lista) for lista in df_image_class.aggrupation]\n",
    "df_image_class['valid'] = [save_images_per_set(df, 'valid', lista) for lista in df_image_class.aggrupation]\n",
    "df_image_class['test'] = [save_images_per_set(df, 'test', lista) for lista in df_image_class.aggrupation]\n",
    "df_image_class.to_csv('TT100k_gruping.csv')"
   ]
  },
  {
   "cell_type": "markdown",
   "metadata": {},
   "source": [
    "## Belgium Valid and Test Different"
   ]
  },
  {
   "cell_type": "code",
   "execution_count": 27,
   "metadata": {},
   "outputs": [
    {
     "data": {
      "text/plain": [
       "array(['classes', 'train_images', 'valid_images', 'test_images'],\n",
       "      dtype=object)"
      ]
     },
     "execution_count": 27,
     "metadata": {},
     "output_type": "execute_result"
    }
   ],
   "source": [
    "dataset_path = \"dataset/classificator/BelgiumTSC/\"\n",
    "sets = [\"train\", \"valid_new\", \"test_new\"]\n",
    "df = create_dataframe(dataset_path, sets)\n",
    "df.columns.values"
   ]
  },
  {
   "cell_type": "code",
   "execution_count": 28,
   "metadata": {},
   "outputs": [
    {
     "data": {
      "image/png": "[encoded data removed]",
      "text/plain": [
       "<Figure size 432x288 with 1 Axes>"
      ]
     },
     "metadata": {},
     "output_type": "display_data"
    }
   ],
   "source": [
    "percentage = compute_set_percentage(df)\n",
    "\n",
    "labels = [\"train\",\"validation\", \"test\"]\n",
    "colors = ['gold', 'yellowgreen', 'lightskyblue']\n",
    "explode = (0.009, 0.009, 0.009)  \n",
    "plt.pie(percentage, explode=explode, colors=colors, labels=labels, autopct='%1.1f%%', shadow=True, startangle=140)\n",
    "plt.tight_layout()\n",
    "plt.axis('equal')\n",
    "plt.show()"
   ]
  },
  {
   "cell_type": "code",
   "execution_count": 30,
   "metadata": {},
   "outputs": [],
   "source": [
    "df.to_csv(\"belgium_split.csv\")\n"
   ]
  },
  {
   "cell_type": "markdown",
   "metadata": {},
   "source": [
    "## BelgiumTSC NON SPLIT\n"
   ]
  },
  {
   "cell_type": "code",
   "execution_count": 170,
   "metadata": {
    "collapsed": true
   },
   "outputs": [],
   "source": [
    "dataset_path = \"dataset/classificator/BelgiumTSC/\"\n",
    "sets = [\"train\", \"valid\", \"test\"]\n",
    "df = create_dataframe(dataset_path, sets)"
   ]
  },
  {
   "cell_type": "code",
   "execution_count": 171,
   "metadata": {},
   "outputs": [
    {
     "data": {
      "image/png": "[encoded data removed]",
      "text/plain": [
       "<Figure size 432x288 with 1 Axes>"
      ]
     },
     "metadata": {},
     "output_type": "display_data"
    }
   ],
   "source": [
    "percentage = compute_set_percentage(df)\n",
    "\n",
    "labels = [\"train\",\"validation\", \"test\"]\n",
    "colors = ['gold', 'yellowgreen', 'lightskyblue']\n",
    "explode = (0.009, 0.009, 0.009)  \n",
    "plt.pie(percentage, explode=explode, colors=colors, labels=labels, autopct='%1.1f%%', shadow=True, startangle=140)\n",
    "plt.tight_layout()\n",
    "plt.axis('equal')\n",
    "plt.show()"
   ]
  },
  {
   "cell_type": "markdown",
   "metadata": {},
   "source": [
    "## Number and What Classes have no Validation Set but have Train data\n",
    "\n",
    "\n",
    "\n",
    "\n"
   ]
  },
  {
   "cell_type": "code",
   "execution_count": 152,
   "metadata": {},
   "outputs": [
    {
     "name": "stdout",
     "output_type": "stream",
     "text": [
      "There are: 9 classes not represented in the validation set\n",
      "\n",
      "Those classes are: ['00009', '00011', '00015', '00026', '00033', '00036', '00048', '00050', '00052']\n"
     ]
    }
   ],
   "source": [
    "numberV, classesV = compute_no_validation_data(df)"
   ]
  },
  {
   "cell_type": "markdown",
   "metadata": {},
   "source": [
    "## Number and What Classes have no Training Data but have Test Data\n"
   ]
  },
  {
   "cell_type": "code",
   "execution_count": 153,
   "metadata": {},
   "outputs": [
    {
     "name": "stdout",
     "output_type": "stream",
     "text": [
      "There are: 0 classes with no training data but test set\n",
      "\n",
      "Those classes are: []\n"
     ]
    }
   ],
   "source": [
    "numberT, classesT = compute_no_train_but_test(df)"
   ]
  },
  {
   "cell_type": "code",
   "execution_count": 174,
   "metadata": {},
   "outputs": [],
   "source": [
    "total_train = df.train_images.sum()\n",
    "total_test = df.test_images.sum()\n",
    "total_val = df.valid_images.sum()"
   ]
  },
  {
   "cell_type": "code",
   "execution_count": 175,
   "metadata": {},
   "outputs": [
    {
     "name": "stdout",
     "output_type": "stream",
     "text": [
      "Train:  4575 \n",
      " Test:  2520 \n",
      " Valid:  2520\n"
     ]
    }
   ],
   "source": [
    "print (\"Train: \", total_train, \"\\n Test: \", total_test ,\"\\n Valid: \", total_val)"
   ]
  },
  {
   "cell_type": "markdown",
   "metadata": {
    "collapsed": true
   },
   "source": [
    "## KITTI"
   ]
  },
  {
   "cell_type": "code",
   "execution_count": 157,
   "metadata": {},
   "outputs": [],
   "source": [
    "dataset_path = \"dataset/classificator/KITTI/\"\n",
    "sets = [\"train\", \"valid\"]\n",
    "df = create_dataframe(dataset_path, sets)"
   ]
  },
  {
   "cell_type": "code",
   "execution_count": 158,
   "metadata": {},
   "outputs": [
    {
     "data": {
      "text/html": [
       "<div>\n",
       "<style scoped>\n",
       "    .dataframe tbody tr th:only-of-type {\n",
       "        vertical-align: middle;\n",
       "    }\n",
       "\n",
       "    .dataframe tbody tr th {\n",
       "        vertical-align: top;\n",
       "    }\n",
       "\n",
       "    .dataframe thead th {\n",
       "        text-align: right;\n",
       "    }\n",
       "</style>\n",
       "<table border=\"1\" class=\"dataframe\">\n",
       "  <thead>\n",
       "    <tr style=\"text-align: right;\">\n",
       "      <th></th>\n",
       "      <th>classes</th>\n",
       "      <th>train_images</th>\n",
       "      <th>valid_images</th>\n",
       "      <th>test_images</th>\n",
       "    </tr>\n",
       "  </thead>\n",
       "  <tbody>\n",
       "    <tr>\n",
       "      <th>0</th>\n",
       "      <td>background</td>\n",
       "      <td>28189</td>\n",
       "      <td>7150</td>\n",
       "      <td>0.0</td>\n",
       "    </tr>\n",
       "    <tr>\n",
       "      <th>1</th>\n",
       "      <td>Car</td>\n",
       "      <td>23076</td>\n",
       "      <td>5666</td>\n",
       "      <td>0.0</td>\n",
       "    </tr>\n",
       "    <tr>\n",
       "      <th>2</th>\n",
       "      <td>Cyclist</td>\n",
       "      <td>1337</td>\n",
       "      <td>290</td>\n",
       "      <td>0.0</td>\n",
       "    </tr>\n",
       "    <tr>\n",
       "      <th>3</th>\n",
       "      <td>Pedestrian</td>\n",
       "      <td>3637</td>\n",
       "      <td>850</td>\n",
       "      <td>0.0</td>\n",
       "    </tr>\n",
       "    <tr>\n",
       "      <th>4</th>\n",
       "      <td>Person_sitting</td>\n",
       "      <td>173</td>\n",
       "      <td>49</td>\n",
       "      <td>0.0</td>\n",
       "    </tr>\n",
       "    <tr>\n",
       "      <th>5</th>\n",
       "      <td>Tram</td>\n",
       "      <td>405</td>\n",
       "      <td>106</td>\n",
       "      <td>0.0</td>\n",
       "    </tr>\n",
       "    <tr>\n",
       "      <th>6</th>\n",
       "      <td>Truck</td>\n",
       "      <td>876</td>\n",
       "      <td>218</td>\n",
       "      <td>0.0</td>\n",
       "    </tr>\n",
       "    <tr>\n",
       "      <th>7</th>\n",
       "      <td>Van</td>\n",
       "      <td>2367</td>\n",
       "      <td>547</td>\n",
       "      <td>0.0</td>\n",
       "    </tr>\n",
       "  </tbody>\n",
       "</table>\n",
       "</div>"
      ],
      "text/plain": [
       "          classes  train_images  valid_images  test_images\n",
       "0      background         28189          7150          0.0\n",
       "1             Car         23076          5666          0.0\n",
       "2         Cyclist          1337           290          0.0\n",
       "3      Pedestrian          3637           850          0.0\n",
       "4  Person_sitting           173            49          0.0\n",
       "5            Tram           405           106          0.0\n",
       "6           Truck           876           218          0.0\n",
       "7             Van          2367           547          0.0"
      ]
     },
     "execution_count": 158,
     "metadata": {},
     "output_type": "execute_result"
    }
   ],
   "source": [
    "a = np.zeros(8)\n",
    "a = list(a)\n",
    "df[\"test_images\"] = a\n",
    "df"
   ]
  },
  {
   "cell_type": "code",
   "execution_count": 159,
   "metadata": {},
   "outputs": [
    {
     "data": {
      "image/png": "[encoded data removed]",
      "text/plain": [
       "<Figure size 432x288 with 1 Axes>"
      ]
     },
     "metadata": {},
     "output_type": "display_data"
    }
   ],
   "source": [
    "percentage = compute_set_percentage(df)\n",
    "#percentage.append(0)\n",
    "\n",
    "labels = [\"train\",\"validation\"]\n",
    "colors = ['gold', 'yellowgreen']\n",
    "explode = (0.009, 0.009)  \n",
    "plt.pie(percentage, explode=explode, colors=colors, labels=labels, autopct='%1.1f%%', shadow=True, startangle=140)\n",
    "plt.tight_layout()\n",
    "plt.axis('equal')\n",
    "plt.show()"
   ]
  },
  {
   "cell_type": "code",
   "execution_count": 160,
   "metadata": {
    "collapsed": true
   },
   "outputs": [],
   "source": [
    "df.to_csv('kitti.csv')"
   ]
  },
  {
   "cell_type": "code",
   "execution_count": 166,
   "metadata": {
    "collapsed": true
   },
   "outputs": [],
   "source": [
    "import os"
   ]
  },
  {
   "cell_type": "code",
   "execution_count": 169,
   "metadata": {},
   "outputs": [
    {
     "data": {
      "text/plain": [
       "['00000',\n",
       " '00001',\n",
       " '00002',\n",
       " '00003',\n",
       " '00004',\n",
       " '00005',\n",
       " '00006',\n",
       " '00007',\n",
       " '00008',\n",
       " '00009',\n",
       " '00010',\n",
       " '00011',\n",
       " '00012',\n",
       " '00013',\n",
       " '00014',\n",
       " '00015',\n",
       " '00016',\n",
       " '00017',\n",
       " '00018',\n",
       " '00019',\n",
       " '00020',\n",
       " '00021',\n",
       " '00022',\n",
       " '00023',\n",
       " '00024',\n",
       " '00025',\n",
       " '00026',\n",
       " '00027',\n",
       " '00028',\n",
       " '00029',\n",
       " '00030',\n",
       " '00031',\n",
       " '00032',\n",
       " '00033',\n",
       " '00034',\n",
       " '00035',\n",
       " '00036',\n",
       " '00037',\n",
       " '00038',\n",
       " '00039',\n",
       " '00040',\n",
       " '00041',\n",
       " '00042',\n",
       " '00043',\n",
       " '00044',\n",
       " '00045',\n",
       " '00046',\n",
       " '00047',\n",
       " '00048',\n",
       " '00049',\n",
       " '00050',\n",
       " '00051',\n",
       " '00052',\n",
       " '00053',\n",
       " '00054',\n",
       " '00055',\n",
       " '00056',\n",
       " '00057',\n",
       " '00058',\n",
       " '00059',\n",
       " '00060',\n",
       " '00061']"
      ]
     },
     "execution_count": 169,
     "metadata": {},
     "output_type": "execute_result"
    }
   ],
   "source": [
    "sorted(os.listdir(\"dataset/classificator/BelgiumTSC/test/\"))"
   ]
  },
  {
   "cell_type": "code",
   "execution_count": null,
   "metadata": {
    "collapsed": true
   },
   "outputs": [],
   "source": []
  }
 ],
 "metadata": {
  "kernelspec": {
   "display_name": "Python 3",
   "language": "python",
   "name": "python3"
  },
  "language_info": {
   "codemirror_mode": {
    "name": "ipython",
    "version": 3
   },
   "file_extension": ".py",
   "mimetype": "text/x-python",
   "name": "python",
   "nbconvert_exporter": "python",
   "pygments_lexer": "ipython3",
   "version": "3.7.1"
  }
 },
 "nbformat": 4,
 "nbformat_minor": 2
}
